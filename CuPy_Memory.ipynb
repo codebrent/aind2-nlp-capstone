{
  "nbformat": 4,
  "nbformat_minor": 0,
  "metadata": {
    "colab": {
      "name": "CuPy Memory.ipynb",
      "version": "0.3.2",
      "provenance": [],
      "private_outputs": true,
      "include_colab_link": true
    },
    "kernelspec": {
      "name": "python3",
      "display_name": "Python 3"
    },
    "accelerator": "GPU"
  },
  "cells": [
    {
      "cell_type": "markdown",
      "metadata": {
        "id": "view-in-github",
        "colab_type": "text"
      },
      "source": [
        "<a href=\"https://colab.research.google.com/github/codebrent/aind2-nlp-capstone/blob/master/CuPy_Memory.ipynb\" target=\"_parent\"><img src=\"https://colab.research.google.com/assets/colab-badge.svg\" alt=\"Open In Colab\"/></a>"
      ]
    },
    {
      "cell_type": "markdown",
      "metadata": {
        "id": "rslbW8rrRXzW",
        "colab_type": "text"
      },
      "source": [
        "Enable either CuPy or NumPy depending on runtime type"
      ]
    },
    {
      "cell_type": "code",
      "metadata": {
        "id": "mKoWo-gERBmG",
        "colab_type": "code",
        "colab": {}
      },
      "source": [
        "import os\n",
        "if os.environ['COLAB_GPU'] == '1':\n",
        "    import cupy as cp\n",
        "    print('GPU Instance. Using cupy')\n",
        "else:\n",
        "    import numpy as cp\n",
        "    print('CPU Instance. Using numpy')"
      ],
      "execution_count": 0,
      "outputs": []
    },
    {
      "cell_type": "code",
      "metadata": {
        "id": "KYA2W44QIsmC",
        "colab_type": "code",
        "colab": {}
      },
      "source": [
        "def show_free_mem():\n",
        "    gb = 1024*1024*1024\n",
        "    (device_free, device_max) = cp.cuda.Device(0).mem_info\n",
        "    print(f'Device Used: {(device_max - device_free)/gb:.2f} GB, Device Max: {device_max/gb:.2f} GB')   \n",
        "    mpool = cp.get_default_memory_pool()\n",
        "    (mem_used, mem_max) = (mpool.used_bytes(), mpool.total_bytes())\n",
        "    print(f'Pool Used: {mem_used/gb:.2f} GB, Pool Max: {mem_max/gb:.2f} GB')\n",
        "    tot_m, used_m, free_m = map(int, os.popen('free -t -m').readlines()[-1].split()[1:])\n",
        "    print(f'System Used: {used_m/1000:.2f} GB, System Max: {tot_m/1000:.2f} GB')    \n",
        "    "
      ],
      "execution_count": 0,
      "outputs": []
    },
    {
      "cell_type": "markdown",
      "metadata": {
        "id": "6v_-dxakUl21",
        "colab_type": "text"
      },
      "source": [
        "Add 2 GB to GPU. Then delete"
      ]
    },
    {
      "cell_type": "code",
      "metadata": {
        "id": "qhwi_aIRUlYU",
        "colab_type": "code",
        "colab": {}
      },
      "source": [
        "print('Create 2GB on GPU')\n",
        "onGPU = cp.ones((256,1024,1024))\n",
        "show_free_mem()\n",
        "print('Clear memory')\n",
        "onGPU = None\n",
        "show_free_mem()"
      ],
      "execution_count": 0,
      "outputs": []
    },
    {
      "cell_type": "markdown",
      "metadata": {
        "id": "mrwpLQLKVAc8",
        "colab_type": "text"
      },
      "source": [
        "CuPy memory pools are gready and will try to get more even when they have some. This can cause warnings and out of memory errors. Use free all blocks to avoid this"
      ]
    },
    {
      "cell_type": "code",
      "metadata": {
        "id": "7Q5mUtz5USSR",
        "colab_type": "code",
        "colab": {}
      },
      "source": [
        "mpool = cp.get_default_memory_pool().free_all_blocks()\n",
        "show_free_mem()\n",
        "onGPU = cp.ones((256,1024,1024))\n",
        "onGPU2 = cp.ones((256,1024,1024))\n",
        "del(onGPU2)\n",
        "show_free_mem()\n",
        "mpool = cp.get_default_memory_pool().free_all_blocks()\n",
        "show_free_mem()"
      ],
      "execution_count": 0,
      "outputs": []
    },
    {
      "cell_type": "markdown",
      "metadata": {
        "id": "NZDcSclEVEzt",
        "colab_type": "text"
      },
      "source": [
        "Create another, Then move it to device memory"
      ]
    },
    {
      "cell_type": "code",
      "metadata": {
        "id": "qcJZWiKbMtBG",
        "colab_type": "code",
        "colab": {}
      },
      "source": [
        "print('Create 2GB on GPU')\n",
        "onGPU = cp.ones((256,1024,1024))\n",
        "show_free_mem()\n",
        "print('Move 2GB to CPU')\n",
        "onGPU = cp.asnumpy(onGPU)\n",
        "show_free_mem()\n",
        "print('Move 2GB to GPU')\n",
        "onGPU = cp.asarray(onGPU)\n",
        "show_free_mem()\n",
        "print('Move 2GB to CPU')\n",
        "onGPU = cp.asnumpy(onGPU)\n",
        "show_free_mem()\n",
        "print('Move 2GB to GPU')\n",
        "onGPU = cp.asarray(onGPU)\n",
        "show_free_mem()\n",
        "print('Move 2GB to CPU')\n",
        "onGPU = cp.asnumpy(onGPU)\n",
        "show_free_mem()\n",
        "print('Move 2GB to GPU')\n",
        "onGPU = cp.asarray(onGPU)\n",
        "show_free_mem()\n",
        "print('Clear memory')\n",
        "import gc\n",
        "gc.collect()\n",
        "show_free_mem()\n",
        "del(onGPU)\n",
        "gc.collect()\n",
        "show_free_mem()\n",
        "onGPU = cp.ones((512,1024,1024))\n",
        "show_free_mem()\n",
        "print('Move 2GB to CPU')\n",
        "onGPU = cp.asnumpy(onGPU)\n",
        "show_free_mem()\n"
      ],
      "execution_count": 0,
      "outputs": []
    },
    {
      "cell_type": "code",
      "metadata": {
        "id": "C25kM1FTKI_n",
        "colab_type": "code",
        "colab": {}
      },
      "source": [
        "import warnings\n",
        "warnings.filterwarnings('ignore')\n",
        "\n",
        "print('Create 2GB on GPU')\n",
        "onGPU1 = cp.ones((256,1024,1024))\n",
        "show_free_mem()\n",
        "print('Create 2GB on GPU')\n",
        "onGPU2 = cp.ones((256,1024,1024))\n",
        "show_free_mem()\n",
        "print('Create 2GB on GPU')\n",
        "onGPU3 = cp.ones((256,1024,1024))\n",
        "show_free_mem()\n",
        "print('Create 2GB on GPU')\n",
        "onGPU4 = cp.ones((256,1024,1024))\n",
        "show_free_mem()\n",
        "print('Create 2GB on GPU')\n",
        "onGPU5 = cp.ones((256,1024,1024))\n",
        "show_free_mem()\n",
        "print('Create 2GB on GPU')\n",
        "onGPU6 = cp.ones((256,1024,1024))\n",
        "show_free_mem()\n",
        "print('Create 2GB on GPU')\n",
        "onGPU7 = cp.ones((256,1024,1024))\n",
        "show_free_mem()\n",
        "\n"
      ],
      "execution_count": 0,
      "outputs": []
    },
    {
      "cell_type": "code",
      "metadata": {
        "id": "YN9yFMbGNurd",
        "colab_type": "code",
        "colab": {}
      },
      "source": [
        "print('Create 2GB on GPU')\n",
        "onGPU = cp.ones((512,1024,1024)).astype('i1')\n",
        "show_free_mem()\n",
        "print(onGPU.nbytes/(1024*1024))\n",
        "onGPU.dtype"
      ],
      "execution_count": 0,
      "outputs": []
    }
  ]
}